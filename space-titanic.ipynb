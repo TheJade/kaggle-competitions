{
 "cells": [
  {
   "cell_type": "code",
   "execution_count": 1,
   "id": "9c8420dd",
   "metadata": {
    "_cell_guid": "b1076dfc-b9ad-4769-8c92-a6c4dae69d19",
    "_uuid": "8f2839f25d086af736a60e9eeb907d3b93b6e0e5",
    "execution": {
     "iopub.execute_input": "2022-05-28T21:27:32.622802Z",
     "iopub.status.busy": "2022-05-28T21:27:32.622026Z",
     "iopub.status.idle": "2022-05-28T21:27:32.636219Z",
     "shell.execute_reply": "2022-05-28T21:27:32.635223Z"
    },
    "papermill": {
     "duration": 0.022082,
     "end_time": "2022-05-28T21:27:32.638388",
     "exception": false,
     "start_time": "2022-05-28T21:27:32.616306",
     "status": "completed"
    },
    "tags": []
   },
   "outputs": [
    {
     "name": "stdout",
     "output_type": "stream",
     "text": [
      "/kaggle/input/spaceship-titanic/sample_submission.csv\n",
      "/kaggle/input/spaceship-titanic/train.csv\n",
      "/kaggle/input/spaceship-titanic/test.csv\n"
     ]
    }
   ],
   "source": [
    "# This Python 3 environment comes with many helpful analytics libraries installed\n",
    "# It is defined by the kaggle/python Docker image: https://github.com/kaggle/docker-python\n",
    "# For example, here's several helpful packages to load\n",
    "\n",
    "import numpy as np # linear algebra\n",
    "import pandas as pd # data processing, CSV file I/O (e.g. pd.read_csv)\n",
    "\n",
    "# Input data files are available in the read-only \"../input/\" directory\n",
    "# For example, running this (by clicking run or pressing Shift+Enter) will list all files under the input directory\n",
    "\n",
    "import os\n",
    "for dirname, _, filenames in os.walk('/kaggle/input'):\n",
    "    for filename in filenames:\n",
    "        print(os.path.join(dirname, filename))\n",
    "\n",
    "# You can write up to 20GB to the current directory (/kaggle/working/) that gets preserved as output when you create a version using \"Save & Run All\" \n",
    "# You can also write temporary files to /kaggle/temp/, but they won't be saved outside of the current session"
   ]
  },
  {
   "cell_type": "code",
   "execution_count": 2,
   "id": "09dde8cb",
   "metadata": {
    "execution": {
     "iopub.execute_input": "2022-05-28T21:27:32.648746Z",
     "iopub.status.busy": "2022-05-28T21:27:32.648008Z",
     "iopub.status.idle": "2022-05-28T21:27:32.747471Z",
     "shell.execute_reply": "2022-05-28T21:27:32.745931Z"
    },
    "papermill": {
     "duration": 0.10643,
     "end_time": "2022-05-28T21:27:32.750486",
     "exception": false,
     "start_time": "2022-05-28T21:27:32.644056",
     "status": "completed"
    },
    "tags": []
   },
   "outputs": [],
   "source": [
    "df_train = pd.read_csv('../input/spaceship-titanic/train.csv')\n",
    "df_test = pd.read_csv('../input/spaceship-titanic/test.csv')\n",
    "df_sample = pd.read_csv('../input/spaceship-titanic/sample_submission.csv')"
   ]
  },
  {
   "cell_type": "code",
   "execution_count": 3,
   "id": "eaf9d304",
   "metadata": {
    "execution": {
     "iopub.execute_input": "2022-05-28T21:27:32.759887Z",
     "iopub.status.busy": "2022-05-28T21:27:32.758268Z",
     "iopub.status.idle": "2022-05-28T21:27:32.795531Z",
     "shell.execute_reply": "2022-05-28T21:27:32.794844Z"
    },
    "papermill": {
     "duration": 0.04421,
     "end_time": "2022-05-28T21:27:32.797745",
     "exception": false,
     "start_time": "2022-05-28T21:27:32.753535",
     "status": "completed"
    },
    "tags": []
   },
   "outputs": [
    {
     "data": {
      "text/html": [
       "<div>\n",
       "<style scoped>\n",
       "    .dataframe tbody tr th:only-of-type {\n",
       "        vertical-align: middle;\n",
       "    }\n",
       "\n",
       "    .dataframe tbody tr th {\n",
       "        vertical-align: top;\n",
       "    }\n",
       "\n",
       "    .dataframe thead th {\n",
       "        text-align: right;\n",
       "    }\n",
       "</style>\n",
       "<table border=\"1\" class=\"dataframe\">\n",
       "  <thead>\n",
       "    <tr style=\"text-align: right;\">\n",
       "      <th></th>\n",
       "      <th>PassengerId</th>\n",
       "      <th>HomePlanet</th>\n",
       "      <th>CryoSleep</th>\n",
       "      <th>Cabin</th>\n",
       "      <th>Destination</th>\n",
       "      <th>Age</th>\n",
       "      <th>VIP</th>\n",
       "      <th>RoomService</th>\n",
       "      <th>FoodCourt</th>\n",
       "      <th>ShoppingMall</th>\n",
       "      <th>Spa</th>\n",
       "      <th>VRDeck</th>\n",
       "      <th>Name</th>\n",
       "      <th>Transported</th>\n",
       "    </tr>\n",
       "  </thead>\n",
       "  <tbody>\n",
       "    <tr>\n",
       "      <th>0</th>\n",
       "      <td>0001_01</td>\n",
       "      <td>Europa</td>\n",
       "      <td>False</td>\n",
       "      <td>B/0/P</td>\n",
       "      <td>TRAPPIST-1e</td>\n",
       "      <td>39.0</td>\n",
       "      <td>False</td>\n",
       "      <td>0.0</td>\n",
       "      <td>0.0</td>\n",
       "      <td>0.0</td>\n",
       "      <td>0.0</td>\n",
       "      <td>0.0</td>\n",
       "      <td>Maham Ofracculy</td>\n",
       "      <td>False</td>\n",
       "    </tr>\n",
       "    <tr>\n",
       "      <th>1</th>\n",
       "      <td>0002_01</td>\n",
       "      <td>Earth</td>\n",
       "      <td>False</td>\n",
       "      <td>F/0/S</td>\n",
       "      <td>TRAPPIST-1e</td>\n",
       "      <td>24.0</td>\n",
       "      <td>False</td>\n",
       "      <td>109.0</td>\n",
       "      <td>9.0</td>\n",
       "      <td>25.0</td>\n",
       "      <td>549.0</td>\n",
       "      <td>44.0</td>\n",
       "      <td>Juanna Vines</td>\n",
       "      <td>True</td>\n",
       "    </tr>\n",
       "    <tr>\n",
       "      <th>2</th>\n",
       "      <td>0003_01</td>\n",
       "      <td>Europa</td>\n",
       "      <td>False</td>\n",
       "      <td>A/0/S</td>\n",
       "      <td>TRAPPIST-1e</td>\n",
       "      <td>58.0</td>\n",
       "      <td>True</td>\n",
       "      <td>43.0</td>\n",
       "      <td>3576.0</td>\n",
       "      <td>0.0</td>\n",
       "      <td>6715.0</td>\n",
       "      <td>49.0</td>\n",
       "      <td>Altark Susent</td>\n",
       "      <td>False</td>\n",
       "    </tr>\n",
       "    <tr>\n",
       "      <th>3</th>\n",
       "      <td>0003_02</td>\n",
       "      <td>Europa</td>\n",
       "      <td>False</td>\n",
       "      <td>A/0/S</td>\n",
       "      <td>TRAPPIST-1e</td>\n",
       "      <td>33.0</td>\n",
       "      <td>False</td>\n",
       "      <td>0.0</td>\n",
       "      <td>1283.0</td>\n",
       "      <td>371.0</td>\n",
       "      <td>3329.0</td>\n",
       "      <td>193.0</td>\n",
       "      <td>Solam Susent</td>\n",
       "      <td>False</td>\n",
       "    </tr>\n",
       "    <tr>\n",
       "      <th>4</th>\n",
       "      <td>0004_01</td>\n",
       "      <td>Earth</td>\n",
       "      <td>False</td>\n",
       "      <td>F/1/S</td>\n",
       "      <td>TRAPPIST-1e</td>\n",
       "      <td>16.0</td>\n",
       "      <td>False</td>\n",
       "      <td>303.0</td>\n",
       "      <td>70.0</td>\n",
       "      <td>151.0</td>\n",
       "      <td>565.0</td>\n",
       "      <td>2.0</td>\n",
       "      <td>Willy Santantines</td>\n",
       "      <td>True</td>\n",
       "    </tr>\n",
       "  </tbody>\n",
       "</table>\n",
       "</div>"
      ],
      "text/plain": [
       "  PassengerId HomePlanet CryoSleep  Cabin  Destination   Age    VIP  \\\n",
       "0     0001_01     Europa     False  B/0/P  TRAPPIST-1e  39.0  False   \n",
       "1     0002_01      Earth     False  F/0/S  TRAPPIST-1e  24.0  False   \n",
       "2     0003_01     Europa     False  A/0/S  TRAPPIST-1e  58.0   True   \n",
       "3     0003_02     Europa     False  A/0/S  TRAPPIST-1e  33.0  False   \n",
       "4     0004_01      Earth     False  F/1/S  TRAPPIST-1e  16.0  False   \n",
       "\n",
       "   RoomService  FoodCourt  ShoppingMall     Spa  VRDeck               Name  \\\n",
       "0          0.0        0.0           0.0     0.0     0.0    Maham Ofracculy   \n",
       "1        109.0        9.0          25.0   549.0    44.0       Juanna Vines   \n",
       "2         43.0     3576.0           0.0  6715.0    49.0      Altark Susent   \n",
       "3          0.0     1283.0         371.0  3329.0   193.0       Solam Susent   \n",
       "4        303.0       70.0         151.0   565.0     2.0  Willy Santantines   \n",
       "\n",
       "   Transported  \n",
       "0        False  \n",
       "1         True  \n",
       "2        False  \n",
       "3        False  \n",
       "4         True  "
      ]
     },
     "execution_count": 3,
     "metadata": {},
     "output_type": "execute_result"
    }
   ],
   "source": [
    "df_train.head()"
   ]
  },
  {
   "cell_type": "code",
   "execution_count": 4,
   "id": "16674490",
   "metadata": {
    "execution": {
     "iopub.execute_input": "2022-05-28T21:27:32.806728Z",
     "iopub.status.busy": "2022-05-28T21:27:32.805852Z",
     "iopub.status.idle": "2022-05-28T21:27:34.019876Z",
     "shell.execute_reply": "2022-05-28T21:27:34.018840Z"
    },
    "papermill": {
     "duration": 1.220999,
     "end_time": "2022-05-28T21:27:34.022200",
     "exception": false,
     "start_time": "2022-05-28T21:27:32.801201",
     "status": "completed"
    },
    "tags": []
   },
   "outputs": [],
   "source": [
    "import pandas as pd\n",
    "from sklearn.model_selection import train_test_split\n",
    "\n",
    "# Separate target from predictors\n",
    "y = df_train.Transported\n",
    "X = df_train.drop(['Transported'], axis=1)\n",
    "\n",
    "# Divide data into training and validation subsets\n",
    "X_train_full, X_valid_full, y_train, y_valid = train_test_split(X, y, train_size=0.8, test_size=0.2,\n",
    "                                                                random_state=0)\n",
    "\n",
    "# \"Cardinality\" means the number of unique values in a column\n",
    "# Select categorical columns with relatively low cardinality (convenient but arbitrary)\n",
    "# categorical_cols = [cname for cname in X_train_full.columns if X_train_full[cname].nunique() < 10 and \n",
    "#                         X_train_full[cname].dtype == \"object\"]\n",
    "categorical_cols = ['HomePlanet', 'CryoSleep', 'Cabin', 'Destination', 'VIP'] # 'Name'\n",
    "\n",
    "# Select numerical columns\n",
    "numerical_cols = ['Age', 'RoomService', 'FoodCourt', 'ShoppingMall', 'Spa', 'VRDeck']\n",
    "\n",
    "# Keep selected columns only\n",
    "my_cols = ['PassengerId'] + categorical_cols + numerical_cols\n",
    "X_train = X_train_full[my_cols].copy()\n",
    "X_valid = X_valid_full[my_cols].copy()"
   ]
  },
  {
   "cell_type": "code",
   "execution_count": 5,
   "id": "be301305",
   "metadata": {
    "execution": {
     "iopub.execute_input": "2022-05-28T21:27:34.030517Z",
     "iopub.status.busy": "2022-05-28T21:27:34.030102Z",
     "iopub.status.idle": "2022-05-28T21:27:34.200854Z",
     "shell.execute_reply": "2022-05-28T21:27:34.199840Z"
    },
    "papermill": {
     "duration": 0.177592,
     "end_time": "2022-05-28T21:27:34.203207",
     "exception": false,
     "start_time": "2022-05-28T21:27:34.025615",
     "status": "completed"
    },
    "tags": []
   },
   "outputs": [],
   "source": [
    "from sklearn.compose import ColumnTransformer\n",
    "from sklearn.pipeline import Pipeline\n",
    "from sklearn.impute import SimpleImputer\n",
    "from sklearn.preprocessing import OneHotEncoder\n",
    "\n",
    "# Preprocessing for numerical data\n",
    "numerical_transformer = SimpleImputer(strategy='constant')\n",
    "\n",
    "# Preprocessing for categorical data\n",
    "categorical_transformer = Pipeline(steps=[\n",
    "    ('imputer', SimpleImputer(strategy='most_frequent')),\n",
    "    ('onehot', OneHotEncoder(handle_unknown='ignore'))\n",
    "])\n",
    "\n",
    "# Bundle preprocessing for numerical and categorical data\n",
    "preprocessor = ColumnTransformer(\n",
    "    transformers=[\n",
    "        ('num', numerical_transformer, numerical_cols),\n",
    "        ('cat', categorical_transformer, categorical_cols)\n",
    "    ])"
   ]
  },
  {
   "cell_type": "code",
   "execution_count": 6,
   "id": "4e8f6789",
   "metadata": {
    "execution": {
     "iopub.execute_input": "2022-05-28T21:27:34.211602Z",
     "iopub.status.busy": "2022-05-28T21:27:34.211055Z",
     "iopub.status.idle": "2022-05-28T21:27:34.321775Z",
     "shell.execute_reply": "2022-05-28T21:27:34.321005Z"
    },
    "papermill": {
     "duration": 0.117511,
     "end_time": "2022-05-28T21:27:34.323963",
     "exception": false,
     "start_time": "2022-05-28T21:27:34.206452",
     "status": "completed"
    },
    "tags": []
   },
   "outputs": [],
   "source": [
    "from sklearn.ensemble import RandomForestClassifier\n",
    "\n",
    "model = RandomForestClassifier(n_estimators=100, random_state=0)"
   ]
  },
  {
   "cell_type": "code",
   "execution_count": 7,
   "id": "ff37ff63",
   "metadata": {
    "execution": {
     "iopub.execute_input": "2022-05-28T21:27:34.331702Z",
     "iopub.status.busy": "2022-05-28T21:27:34.331294Z",
     "iopub.status.idle": "2022-05-28T21:27:38.621845Z",
     "shell.execute_reply": "2022-05-28T21:27:38.620749Z"
    },
    "papermill": {
     "duration": 4.296802,
     "end_time": "2022-05-28T21:27:38.623915",
     "exception": false,
     "start_time": "2022-05-28T21:27:34.327113",
     "status": "completed"
    },
    "tags": []
   },
   "outputs": [
    {
     "name": "stdout",
     "output_type": "stream",
     "text": [
      "accuracy_score: 0.7780333525014376\n"
     ]
    }
   ],
   "source": [
    "from sklearn.metrics import accuracy_score\n",
    "\n",
    "# Bundle preprocessing and modeling code in a pipeline\n",
    "my_pipeline = Pipeline(steps=[('preprocessor', preprocessor),\n",
    "                              ('model', model)\n",
    "                             ])\n",
    "\n",
    "# Preprocessing of training data, fit model \n",
    "my_pipeline.fit(X_train, y_train)\n",
    "\n",
    "# Preprocessing of validation data, get predictions\n",
    "preds = my_pipeline.predict(X_valid)\n",
    "\n",
    "# Evaluate the model\n",
    "score = accuracy_score(y_valid, preds)\n",
    "print('accuracy_score:', score)"
   ]
  },
  {
   "cell_type": "code",
   "execution_count": 8,
   "id": "6341ddc9",
   "metadata": {
    "execution": {
     "iopub.execute_input": "2022-05-28T21:27:38.631989Z",
     "iopub.status.busy": "2022-05-28T21:27:38.631391Z",
     "iopub.status.idle": "2022-05-28T21:27:38.961119Z",
     "shell.execute_reply": "2022-05-28T21:27:38.960180Z"
    },
    "papermill": {
     "duration": 0.336402,
     "end_time": "2022-05-28T21:27:38.963585",
     "exception": false,
     "start_time": "2022-05-28T21:27:38.627183",
     "status": "completed"
    },
    "tags": []
   },
   "outputs": [],
   "source": [
    "# Submitting\n",
    "\n",
    "# Preprocessing of validation data, get predictions\n",
    "preds = my_pipeline.predict(df_test)"
   ]
  },
  {
   "cell_type": "code",
   "execution_count": 9,
   "id": "9038cb9b",
   "metadata": {
    "execution": {
     "iopub.execute_input": "2022-05-28T21:27:38.971315Z",
     "iopub.status.busy": "2022-05-28T21:27:38.970923Z",
     "iopub.status.idle": "2022-05-28T21:27:38.983551Z",
     "shell.execute_reply": "2022-05-28T21:27:38.982565Z"
    },
    "papermill": {
     "duration": 0.019094,
     "end_time": "2022-05-28T21:27:38.985764",
     "exception": false,
     "start_time": "2022-05-28T21:27:38.966670",
     "status": "completed"
    },
    "tags": []
   },
   "outputs": [],
   "source": [
    "output = pd.DataFrame({'PassengerId': df_test['PassengerId'],\n",
    "                       'Transported': preds})\n",
    "output.to_csv('submission.csv', index=False)"
   ]
  }
 ],
 "metadata": {
  "kernelspec": {
   "display_name": "Python 3",
   "language": "python",
   "name": "python3"
  },
  "language_info": {
   "codemirror_mode": {
    "name": "ipython",
    "version": 3
   },
   "file_extension": ".py",
   "mimetype": "text/x-python",
   "name": "python",
   "nbconvert_exporter": "python",
   "pygments_lexer": "ipython3",
   "version": "3.7.12"
  },
  "papermill": {
   "default_parameters": {},
   "duration": 16.521466,
   "end_time": "2022-05-28T21:27:39.710072",
   "environment_variables": {},
   "exception": null,
   "input_path": "__notebook__.ipynb",
   "output_path": "__notebook__.ipynb",
   "parameters": {},
   "start_time": "2022-05-28T21:27:23.188606",
   "version": "2.3.4"
  }
 },
 "nbformat": 4,
 "nbformat_minor": 5
}
