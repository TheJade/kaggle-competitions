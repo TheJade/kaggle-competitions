{
 "cells": [
  {
   "cell_type": "code",
   "execution_count": 1,
   "id": "a2f6e6a0",
   "metadata": {
    "_cell_guid": "b1076dfc-b9ad-4769-8c92-a6c4dae69d19",
    "_uuid": "8f2839f25d086af736a60e9eeb907d3b93b6e0e5",
    "execution": {
     "iopub.execute_input": "2022-06-12T19:16:06.449464Z",
     "iopub.status.busy": "2022-06-12T19:16:06.448844Z",
     "iopub.status.idle": "2022-06-12T19:16:06.459941Z",
     "shell.execute_reply": "2022-06-12T19:16:06.459283Z"
    },
    "papermill": {
     "duration": 0.024651,
     "end_time": "2022-06-12T19:16:06.462632",
     "exception": false,
     "start_time": "2022-06-12T19:16:06.437981",
     "status": "completed"
    },
    "tags": []
   },
   "outputs": [
    {
     "name": "stdout",
     "output_type": "stream",
     "text": [
      "/kaggle/input/spaceship-titanic/sample_submission.csv\n",
      "/kaggle/input/spaceship-titanic/train.csv\n",
      "/kaggle/input/spaceship-titanic/test.csv\n"
     ]
    }
   ],
   "source": [
    "# This Python 3 environment comes with many helpful analytics libraries installed\n",
    "# It is defined by the kaggle/python Docker image: https://github.com/kaggle/docker-python\n",
    "# For example, here's several helpful packages to load\n",
    "\n",
    "import numpy as np # linear algebra\n",
    "import pandas as pd # data processing, CSV file I/O (e.g. pd.read_csv)\n",
    "\n",
    "# Input data files are available in the read-only \"../input/\" directory\n",
    "# For example, running this (by clicking run or pressing Shift+Enter) will list all files under the input directory\n",
    "\n",
    "import os\n",
    "for dirname, _, filenames in os.walk('/kaggle/input'):\n",
    "    for filename in filenames:\n",
    "        print(os.path.join(dirname, filename))\n",
    "\n",
    "# You can write up to 20GB to the current directory (/kaggle/working/) that gets preserved as output when you create a version using \"Save & Run All\" \n",
    "# You can also write temporary files to /kaggle/temp/, but they won't be saved outside of the current session"
   ]
  },
  {
   "cell_type": "code",
   "execution_count": 2,
   "id": "7bd8b59e",
   "metadata": {
    "execution": {
     "iopub.execute_input": "2022-06-12T19:16:06.477886Z",
     "iopub.status.busy": "2022-06-12T19:16:06.477205Z",
     "iopub.status.idle": "2022-06-12T19:16:06.556241Z",
     "shell.execute_reply": "2022-06-12T19:16:06.555425Z"
    },
    "papermill": {
     "duration": 0.088325,
     "end_time": "2022-06-12T19:16:06.558384",
     "exception": false,
     "start_time": "2022-06-12T19:16:06.470059",
     "status": "completed"
    },
    "tags": []
   },
   "outputs": [],
   "source": [
    "# Reads Input Data\n",
    "df_train = pd.read_csv('../input/spaceship-titanic/train.csv')\n",
    "df_test = pd.read_csv('../input/spaceship-titanic/test.csv')\n",
    "df_sample = pd.read_csv('../input/spaceship-titanic/sample_submission.csv')"
   ]
  },
  {
   "cell_type": "markdown",
   "id": "8518b0e6",
   "metadata": {
    "papermill": {
     "duration": 0.005783,
     "end_time": "2022-06-12T19:16:06.570490",
     "exception": false,
     "start_time": "2022-06-12T19:16:06.564707",
     "status": "completed"
    },
    "tags": []
   },
   "source": [
    "# TODO\n",
    "\n",
    "Just search for the tags:   \n",
    "> TODO:\n",
    ">\n",
    "> FIXME: \n"
   ]
  },
  {
   "cell_type": "markdown",
   "id": "9943de19",
   "metadata": {
    "papermill": {
     "duration": 0.005835,
     "end_time": "2022-06-12T19:16:06.582493",
     "exception": false,
     "start_time": "2022-06-12T19:16:06.576658",
     "status": "completed"
    },
    "tags": []
   },
   "source": [
    "# Notebook Parameters"
   ]
  },
  {
   "cell_type": "code",
   "execution_count": 3,
   "id": "279aff9c",
   "metadata": {
    "execution": {
     "iopub.execute_input": "2022-06-12T19:16:06.596800Z",
     "iopub.status.busy": "2022-06-12T19:16:06.595675Z",
     "iopub.status.idle": "2022-06-12T19:16:06.600611Z",
     "shell.execute_reply": "2022-06-12T19:16:06.599892Z"
    },
    "papermill": {
     "duration": 0.013943,
     "end_time": "2022-06-12T19:16:06.602485",
     "exception": false,
     "start_time": "2022-06-12T19:16:06.588542",
     "status": "completed"
    },
    "tags": []
   },
   "outputs": [],
   "source": [
    "# this is the height of the seaborn plots in the notebook\n",
    "base_height=10"
   ]
  },
  {
   "cell_type": "markdown",
   "id": "230b3f04",
   "metadata": {
    "papermill": {
     "duration": 0.005628,
     "end_time": "2022-06-12T19:16:06.614164",
     "exception": false,
     "start_time": "2022-06-12T19:16:06.608536",
     "status": "completed"
    },
    "tags": []
   },
   "source": [
    "# Light Data Exploration\n",
    "\n",
    "Just seeing what columns are what (i.e. cat or num columns)"
   ]
  },
  {
   "cell_type": "code",
   "execution_count": 4,
   "id": "4a9a5d61",
   "metadata": {
    "execution": {
     "iopub.execute_input": "2022-06-12T19:16:06.627957Z",
     "iopub.status.busy": "2022-06-12T19:16:06.627300Z",
     "iopub.status.idle": "2022-06-12T19:16:07.715848Z",
     "shell.execute_reply": "2022-06-12T19:16:07.714896Z"
    },
    "papermill": {
     "duration": 1.098267,
     "end_time": "2022-06-12T19:16:07.718330",
     "exception": false,
     "start_time": "2022-06-12T19:16:06.620063",
     "status": "completed"
    },
    "tags": []
   },
   "outputs": [],
   "source": [
    "import seaborn as sns\n",
    "import matplotlib.pyplot as plt\n",
    "sns.set_theme(style=\"ticks\", color_codes=True)"
   ]
  },
  {
   "cell_type": "code",
   "execution_count": 5,
   "id": "6f2ac9b7",
   "metadata": {
    "execution": {
     "iopub.execute_input": "2022-06-12T19:16:07.732338Z",
     "iopub.status.busy": "2022-06-12T19:16:07.731467Z",
     "iopub.status.idle": "2022-06-12T19:16:07.778346Z",
     "shell.execute_reply": "2022-06-12T19:16:07.777304Z"
    },
    "papermill": {
     "duration": 0.056142,
     "end_time": "2022-06-12T19:16:07.780518",
     "exception": false,
     "start_time": "2022-06-12T19:16:07.724376",
     "status": "completed"
    },
    "tags": []
   },
   "outputs": [
    {
     "data": {
      "text/html": [
       "<div>\n",
       "<style scoped>\n",
       "    .dataframe tbody tr th:only-of-type {\n",
       "        vertical-align: middle;\n",
       "    }\n",
       "\n",
       "    .dataframe tbody tr th {\n",
       "        vertical-align: top;\n",
       "    }\n",
       "\n",
       "    .dataframe thead th {\n",
       "        text-align: right;\n",
       "    }\n",
       "</style>\n",
       "<table border=\"1\" class=\"dataframe\">\n",
       "  <thead>\n",
       "    <tr style=\"text-align: right;\">\n",
       "      <th></th>\n",
       "      <th>PassengerId</th>\n",
       "      <th>HomePlanet</th>\n",
       "      <th>CryoSleep</th>\n",
       "      <th>Cabin</th>\n",
       "      <th>Destination</th>\n",
       "      <th>Age</th>\n",
       "      <th>VIP</th>\n",
       "      <th>RoomService</th>\n",
       "      <th>FoodCourt</th>\n",
       "      <th>ShoppingMall</th>\n",
       "      <th>Spa</th>\n",
       "      <th>VRDeck</th>\n",
       "      <th>Name</th>\n",
       "      <th>Transported</th>\n",
       "    </tr>\n",
       "  </thead>\n",
       "  <tbody>\n",
       "    <tr>\n",
       "      <th>0</th>\n",
       "      <td>0001_01</td>\n",
       "      <td>Europa</td>\n",
       "      <td>False</td>\n",
       "      <td>B/0/P</td>\n",
       "      <td>TRAPPIST-1e</td>\n",
       "      <td>39.0</td>\n",
       "      <td>False</td>\n",
       "      <td>0.0</td>\n",
       "      <td>0.0</td>\n",
       "      <td>0.0</td>\n",
       "      <td>0.0</td>\n",
       "      <td>0.0</td>\n",
       "      <td>Maham Ofracculy</td>\n",
       "      <td>False</td>\n",
       "    </tr>\n",
       "    <tr>\n",
       "      <th>1</th>\n",
       "      <td>0002_01</td>\n",
       "      <td>Earth</td>\n",
       "      <td>False</td>\n",
       "      <td>F/0/S</td>\n",
       "      <td>TRAPPIST-1e</td>\n",
       "      <td>24.0</td>\n",
       "      <td>False</td>\n",
       "      <td>109.0</td>\n",
       "      <td>9.0</td>\n",
       "      <td>25.0</td>\n",
       "      <td>549.0</td>\n",
       "      <td>44.0</td>\n",
       "      <td>Juanna Vines</td>\n",
       "      <td>True</td>\n",
       "    </tr>\n",
       "    <tr>\n",
       "      <th>2</th>\n",
       "      <td>0003_01</td>\n",
       "      <td>Europa</td>\n",
       "      <td>False</td>\n",
       "      <td>A/0/S</td>\n",
       "      <td>TRAPPIST-1e</td>\n",
       "      <td>58.0</td>\n",
       "      <td>True</td>\n",
       "      <td>43.0</td>\n",
       "      <td>3576.0</td>\n",
       "      <td>0.0</td>\n",
       "      <td>6715.0</td>\n",
       "      <td>49.0</td>\n",
       "      <td>Altark Susent</td>\n",
       "      <td>False</td>\n",
       "    </tr>\n",
       "    <tr>\n",
       "      <th>3</th>\n",
       "      <td>0003_02</td>\n",
       "      <td>Europa</td>\n",
       "      <td>False</td>\n",
       "      <td>A/0/S</td>\n",
       "      <td>TRAPPIST-1e</td>\n",
       "      <td>33.0</td>\n",
       "      <td>False</td>\n",
       "      <td>0.0</td>\n",
       "      <td>1283.0</td>\n",
       "      <td>371.0</td>\n",
       "      <td>3329.0</td>\n",
       "      <td>193.0</td>\n",
       "      <td>Solam Susent</td>\n",
       "      <td>False</td>\n",
       "    </tr>\n",
       "    <tr>\n",
       "      <th>4</th>\n",
       "      <td>0004_01</td>\n",
       "      <td>Earth</td>\n",
       "      <td>False</td>\n",
       "      <td>F/1/S</td>\n",
       "      <td>TRAPPIST-1e</td>\n",
       "      <td>16.0</td>\n",
       "      <td>False</td>\n",
       "      <td>303.0</td>\n",
       "      <td>70.0</td>\n",
       "      <td>151.0</td>\n",
       "      <td>565.0</td>\n",
       "      <td>2.0</td>\n",
       "      <td>Willy Santantines</td>\n",
       "      <td>True</td>\n",
       "    </tr>\n",
       "    <tr>\n",
       "      <th>...</th>\n",
       "      <td>...</td>\n",
       "      <td>...</td>\n",
       "      <td>...</td>\n",
       "      <td>...</td>\n",
       "      <td>...</td>\n",
       "      <td>...</td>\n",
       "      <td>...</td>\n",
       "      <td>...</td>\n",
       "      <td>...</td>\n",
       "      <td>...</td>\n",
       "      <td>...</td>\n",
       "      <td>...</td>\n",
       "      <td>...</td>\n",
       "      <td>...</td>\n",
       "    </tr>\n",
       "    <tr>\n",
       "      <th>4272</th>\n",
       "      <td>9266_02</td>\n",
       "      <td>Earth</td>\n",
       "      <td>True</td>\n",
       "      <td>G/1496/S</td>\n",
       "      <td>TRAPPIST-1e</td>\n",
       "      <td>34.0</td>\n",
       "      <td>False</td>\n",
       "      <td>0.0</td>\n",
       "      <td>0.0</td>\n",
       "      <td>0.0</td>\n",
       "      <td>0.0</td>\n",
       "      <td>0.0</td>\n",
       "      <td>Jeron Peter</td>\n",
       "      <td>NaN</td>\n",
       "    </tr>\n",
       "    <tr>\n",
       "      <th>4273</th>\n",
       "      <td>9269_01</td>\n",
       "      <td>Earth</td>\n",
       "      <td>False</td>\n",
       "      <td>NaN</td>\n",
       "      <td>TRAPPIST-1e</td>\n",
       "      <td>42.0</td>\n",
       "      <td>False</td>\n",
       "      <td>0.0</td>\n",
       "      <td>847.0</td>\n",
       "      <td>17.0</td>\n",
       "      <td>10.0</td>\n",
       "      <td>144.0</td>\n",
       "      <td>Matty Scheron</td>\n",
       "      <td>NaN</td>\n",
       "    </tr>\n",
       "    <tr>\n",
       "      <th>4274</th>\n",
       "      <td>9271_01</td>\n",
       "      <td>Mars</td>\n",
       "      <td>True</td>\n",
       "      <td>D/296/P</td>\n",
       "      <td>55 Cancri e</td>\n",
       "      <td>NaN</td>\n",
       "      <td>False</td>\n",
       "      <td>0.0</td>\n",
       "      <td>0.0</td>\n",
       "      <td>0.0</td>\n",
       "      <td>0.0</td>\n",
       "      <td>0.0</td>\n",
       "      <td>Jayrin Pore</td>\n",
       "      <td>NaN</td>\n",
       "    </tr>\n",
       "    <tr>\n",
       "      <th>4275</th>\n",
       "      <td>9273_01</td>\n",
       "      <td>Europa</td>\n",
       "      <td>False</td>\n",
       "      <td>D/297/P</td>\n",
       "      <td>NaN</td>\n",
       "      <td>NaN</td>\n",
       "      <td>False</td>\n",
       "      <td>0.0</td>\n",
       "      <td>2680.0</td>\n",
       "      <td>0.0</td>\n",
       "      <td>0.0</td>\n",
       "      <td>523.0</td>\n",
       "      <td>Kitakan Conale</td>\n",
       "      <td>NaN</td>\n",
       "    </tr>\n",
       "    <tr>\n",
       "      <th>4276</th>\n",
       "      <td>9277_01</td>\n",
       "      <td>Earth</td>\n",
       "      <td>True</td>\n",
       "      <td>G/1498/S</td>\n",
       "      <td>PSO J318.5-22</td>\n",
       "      <td>43.0</td>\n",
       "      <td>False</td>\n",
       "      <td>0.0</td>\n",
       "      <td>0.0</td>\n",
       "      <td>0.0</td>\n",
       "      <td>0.0</td>\n",
       "      <td>0.0</td>\n",
       "      <td>Lilace Leonzaley</td>\n",
       "      <td>NaN</td>\n",
       "    </tr>\n",
       "  </tbody>\n",
       "</table>\n",
       "<p>12970 rows × 14 columns</p>\n",
       "</div>"
      ],
      "text/plain": [
       "     PassengerId HomePlanet CryoSleep     Cabin    Destination   Age    VIP  \\\n",
       "0        0001_01     Europa     False     B/0/P    TRAPPIST-1e  39.0  False   \n",
       "1        0002_01      Earth     False     F/0/S    TRAPPIST-1e  24.0  False   \n",
       "2        0003_01     Europa     False     A/0/S    TRAPPIST-1e  58.0   True   \n",
       "3        0003_02     Europa     False     A/0/S    TRAPPIST-1e  33.0  False   \n",
       "4        0004_01      Earth     False     F/1/S    TRAPPIST-1e  16.0  False   \n",
       "...          ...        ...       ...       ...            ...   ...    ...   \n",
       "4272     9266_02      Earth      True  G/1496/S    TRAPPIST-1e  34.0  False   \n",
       "4273     9269_01      Earth     False       NaN    TRAPPIST-1e  42.0  False   \n",
       "4274     9271_01       Mars      True   D/296/P    55 Cancri e   NaN  False   \n",
       "4275     9273_01     Europa     False   D/297/P            NaN   NaN  False   \n",
       "4276     9277_01      Earth      True  G/1498/S  PSO J318.5-22  43.0  False   \n",
       "\n",
       "      RoomService  FoodCourt  ShoppingMall     Spa  VRDeck               Name  \\\n",
       "0             0.0        0.0           0.0     0.0     0.0    Maham Ofracculy   \n",
       "1           109.0        9.0          25.0   549.0    44.0       Juanna Vines   \n",
       "2            43.0     3576.0           0.0  6715.0    49.0      Altark Susent   \n",
       "3             0.0     1283.0         371.0  3329.0   193.0       Solam Susent   \n",
       "4           303.0       70.0         151.0   565.0     2.0  Willy Santantines   \n",
       "...           ...        ...           ...     ...     ...                ...   \n",
       "4272          0.0        0.0           0.0     0.0     0.0        Jeron Peter   \n",
       "4273          0.0      847.0          17.0    10.0   144.0      Matty Scheron   \n",
       "4274          0.0        0.0           0.0     0.0     0.0        Jayrin Pore   \n",
       "4275          0.0     2680.0           0.0     0.0   523.0     Kitakan Conale   \n",
       "4276          0.0        0.0           0.0     0.0     0.0   Lilace Leonzaley   \n",
       "\n",
       "     Transported  \n",
       "0          False  \n",
       "1           True  \n",
       "2          False  \n",
       "3          False  \n",
       "4           True  \n",
       "...          ...  \n",
       "4272         NaN  \n",
       "4273         NaN  \n",
       "4274         NaN  \n",
       "4275         NaN  \n",
       "4276         NaN  \n",
       "\n",
       "[12970 rows x 14 columns]"
      ]
     },
     "execution_count": 5,
     "metadata": {},
     "output_type": "execute_result"
    }
   ],
   "source": [
    "# df_ex = df_explore won't be used in much more than light exploration\n",
    "df_ex = pd.concat([df_train, df_test])\n",
    "df_ex"
   ]
  },
  {
   "cell_type": "markdown",
   "id": "8e461e2d",
   "metadata": {
    "papermill": {
     "duration": 0.006206,
     "end_time": "2022-06-12T19:16:07.793704",
     "exception": false,
     "start_time": "2022-06-12T19:16:07.787498",
     "status": "completed"
    },
    "tags": []
   },
   "source": [
    "### Ideas\n",
    "\n",
    " - Split up Cabin into CabinGroup and CabinZone\n",
    " - Create a family size feature \n",
    " - maybe do children count as well\n"
   ]
  },
  {
   "cell_type": "markdown",
   "id": "9faaf880",
   "metadata": {
    "papermill": {
     "duration": 0.006351,
     "end_time": "2022-06-12T19:16:07.806396",
     "exception": false,
     "start_time": "2022-06-12T19:16:07.800045",
     "status": "completed"
    },
    "tags": []
   },
   "source": [
    "# Feature Engineering\n",
    "\n",
    "This will also be updated with the heavy data exploration section"
   ]
  },
  {
   "cell_type": "code",
   "execution_count": 6,
   "id": "c8237d1e",
   "metadata": {
    "execution": {
     "iopub.execute_input": "2022-06-12T19:16:07.821231Z",
     "iopub.status.busy": "2022-06-12T19:16:07.820561Z",
     "iopub.status.idle": "2022-06-12T19:16:07.825802Z",
     "shell.execute_reply": "2022-06-12T19:16:07.825156Z"
    },
    "papermill": {
     "duration": 0.014932,
     "end_time": "2022-06-12T19:16:07.827784",
     "exception": false,
     "start_time": "2022-06-12T19:16:07.812852",
     "status": "completed"
    },
    "tags": []
   },
   "outputs": [],
   "source": [
    "# this function is used to generate a variety of features\n",
    "def str_split_collect(col_series, split_by, index, debug=False):\n",
    "    cabin_group_list = []\n",
    "    error_count = 0\n",
    "    for cabin in col_series:\n",
    "        try:\n",
    "            cabin_group_list.append(cabin.split(split_by)[index])\n",
    "        except:\n",
    "            error_count += 1\n",
    "            cabin_group_list.append(np.nan)\n",
    "    if (debug):\n",
    "        print(f'Error Count of: {error_count}\\nsplity_by={split_by}\\nindex={index}')\n",
    "    return cabin_group_list"
   ]
  },
  {
   "cell_type": "code",
   "execution_count": 7,
   "id": "e7d93309",
   "metadata": {
    "execution": {
     "iopub.execute_input": "2022-06-12T19:16:07.843431Z",
     "iopub.status.busy": "2022-06-12T19:16:07.842789Z",
     "iopub.status.idle": "2022-06-12T19:16:07.850828Z",
     "shell.execute_reply": "2022-06-12T19:16:07.850126Z"
    },
    "papermill": {
     "duration": 0.018019,
     "end_time": "2022-06-12T19:16:07.853035",
     "exception": false,
     "start_time": "2022-06-12T19:16:07.835016",
     "status": "completed"
    },
    "tags": []
   },
   "outputs": [],
   "source": [
    "# can add and remove features easily for trying out different methods\n",
    "\n",
    "def feat_eng(df, drop_used_columns=False, CabinGroup=True, CabinZone=True, PassengerIdGroup=True, FamilySize=True):\n",
    "    #--light feature engineering--------\n",
    "    \n",
    "    if CabinGroup:\n",
    "        # get the cabin group of the passenger, this might be located on more dangerous places of the ship\n",
    "        # gets the the first value of the cabin \"B/0/P\" so it would create a column with the row value \"B\"\n",
    "        df['CabinGroup'] = str_split_collect(col_series = df['Cabin'], split_by='/', index=0, debug=False)\n",
    "    \n",
    "    if CabinZone:\n",
    "         # get the cabin zone of the passenger, this might be located on more dangerous places of the ship\n",
    "        # gets the the 3rd value of the cabin \"B/0/P\" so it would create a column with the row value \"P\"\n",
    "        df['CabinZone'] = str_split_collect(col_series = df['Cabin'], split_by='/', index=2, debug=False)\n",
    "        \n",
    "    if drop_used_columns and CabinGroup and CabinZone:\n",
    "        df = df.drop(columns=['Cabin'])\n",
    "    \n",
    "    if PassengerIdGroup:\n",
    "        # gets the passenger group of the prassenger to be used for family size count\n",
    "        # gets the the 1st value of the PassengerId \"9280_02\" so it would create a column with the row value \"9280\"\n",
    "        df['PassengerIdGroup'] = str_split_collect(col_series = df['PassengerId'], split_by='_', index=0, debug=False)\n",
    "    \n",
    "    if FamilySize:\n",
    "        # finds the family size of the passenger\n",
    "        # gets the the 1st value of the PassengerId \"9280_02\" so it would create a column with the row value \"9280\"\n",
    "        # then does a group by to count the number of occurrances of the group\n",
    "        df['PassengerIdGroup'] = str_split_collect(col_series = df['PassengerId'], split_by='_', index=0, debug=False)\n",
    "        df['FamilySize'] = df.groupby(['PassengerIdGroup'], dropna=False)['PassengerIdGroup'].transform('count')\n",
    "        if not PassengerIdGroup:\n",
    "            df = df.drop(columns=['PassengerIdGroup'])\n",
    "    \n",
    "    return df"
   ]
  },
  {
   "cell_type": "code",
   "execution_count": 8,
   "id": "84838de3",
   "metadata": {
    "execution": {
     "iopub.execute_input": "2022-06-12T19:16:07.867945Z",
     "iopub.status.busy": "2022-06-12T19:16:07.867315Z",
     "iopub.status.idle": "2022-06-12T19:16:07.912912Z",
     "shell.execute_reply": "2022-06-12T19:16:07.912241Z"
    },
    "papermill": {
     "duration": 0.055143,
     "end_time": "2022-06-12T19:16:07.914933",
     "exception": false,
     "start_time": "2022-06-12T19:16:07.859790",
     "status": "completed"
    },
    "tags": []
   },
   "outputs": [
    {
     "data": {
      "text/html": [
       "<div>\n",
       "<style scoped>\n",
       "    .dataframe tbody tr th:only-of-type {\n",
       "        vertical-align: middle;\n",
       "    }\n",
       "\n",
       "    .dataframe tbody tr th {\n",
       "        vertical-align: top;\n",
       "    }\n",
       "\n",
       "    .dataframe thead th {\n",
       "        text-align: right;\n",
       "    }\n",
       "</style>\n",
       "<table border=\"1\" class=\"dataframe\">\n",
       "  <thead>\n",
       "    <tr style=\"text-align: right;\">\n",
       "      <th></th>\n",
       "      <th>PassengerId</th>\n",
       "      <th>HomePlanet</th>\n",
       "      <th>CryoSleep</th>\n",
       "      <th>Cabin</th>\n",
       "      <th>Destination</th>\n",
       "      <th>Age</th>\n",
       "      <th>VIP</th>\n",
       "      <th>RoomService</th>\n",
       "      <th>FoodCourt</th>\n",
       "      <th>ShoppingMall</th>\n",
       "      <th>Spa</th>\n",
       "      <th>VRDeck</th>\n",
       "      <th>Name</th>\n",
       "      <th>Transported</th>\n",
       "      <th>CabinGroup</th>\n",
       "      <th>CabinZone</th>\n",
       "      <th>FamilySize</th>\n",
       "    </tr>\n",
       "  </thead>\n",
       "  <tbody>\n",
       "    <tr>\n",
       "      <th>4809</th>\n",
       "      <td>5133_02</td>\n",
       "      <td>Earth</td>\n",
       "      <td>True</td>\n",
       "      <td>G/829/P</td>\n",
       "      <td>PSO J318.5-22</td>\n",
       "      <td>24.0</td>\n",
       "      <td>False</td>\n",
       "      <td>0.0</td>\n",
       "      <td>0.0</td>\n",
       "      <td>0.0</td>\n",
       "      <td>0.0</td>\n",
       "      <td>0.0</td>\n",
       "      <td>Hene Litthews</td>\n",
       "      <td>False</td>\n",
       "      <td>G</td>\n",
       "      <td>P</td>\n",
       "      <td>8</td>\n",
       "    </tr>\n",
       "    <tr>\n",
       "      <th>6131</th>\n",
       "      <td>6468_04</td>\n",
       "      <td>Mars</td>\n",
       "      <td>False</td>\n",
       "      <td>D/204/P</td>\n",
       "      <td>TRAPPIST-1e</td>\n",
       "      <td>32.0</td>\n",
       "      <td>True</td>\n",
       "      <td>1179.0</td>\n",
       "      <td>0.0</td>\n",
       "      <td>4.0</td>\n",
       "      <td>0.0</td>\n",
       "      <td>0.0</td>\n",
       "      <td>Unchal Crité</td>\n",
       "      <td>False</td>\n",
       "      <td>D</td>\n",
       "      <td>P</td>\n",
       "      <td>4</td>\n",
       "    </tr>\n",
       "    <tr>\n",
       "      <th>3296</th>\n",
       "      <td>3542_01</td>\n",
       "      <td>Mars</td>\n",
       "      <td>True</td>\n",
       "      <td>F/669/S</td>\n",
       "      <td>TRAPPIST-1e</td>\n",
       "      <td>31.0</td>\n",
       "      <td>False</td>\n",
       "      <td>0.0</td>\n",
       "      <td>0.0</td>\n",
       "      <td>0.0</td>\n",
       "      <td>0.0</td>\n",
       "      <td>0.0</td>\n",
       "      <td>Beres Derry</td>\n",
       "      <td>True</td>\n",
       "      <td>F</td>\n",
       "      <td>S</td>\n",
       "      <td>1</td>\n",
       "    </tr>\n",
       "    <tr>\n",
       "      <th>7157</th>\n",
       "      <td>7635_01</td>\n",
       "      <td>Europa</td>\n",
       "      <td>True</td>\n",
       "      <td>B/289/S</td>\n",
       "      <td>55 Cancri e</td>\n",
       "      <td>58.0</td>\n",
       "      <td>False</td>\n",
       "      <td>0.0</td>\n",
       "      <td>0.0</td>\n",
       "      <td>0.0</td>\n",
       "      <td>0.0</td>\n",
       "      <td>0.0</td>\n",
       "      <td>Caphird Aneetle</td>\n",
       "      <td>True</td>\n",
       "      <td>B</td>\n",
       "      <td>S</td>\n",
       "      <td>1</td>\n",
       "    </tr>\n",
       "    <tr>\n",
       "      <th>6523</th>\n",
       "      <td>6891_01</td>\n",
       "      <td>Mars</td>\n",
       "      <td>False</td>\n",
       "      <td>D/215/P</td>\n",
       "      <td>TRAPPIST-1e</td>\n",
       "      <td>27.0</td>\n",
       "      <td>False</td>\n",
       "      <td>725.0</td>\n",
       "      <td>0.0</td>\n",
       "      <td>1660.0</td>\n",
       "      <td>0.0</td>\n",
       "      <td>0.0</td>\n",
       "      <td>Treynx Casty</td>\n",
       "      <td>True</td>\n",
       "      <td>D</td>\n",
       "      <td>P</td>\n",
       "      <td>1</td>\n",
       "    </tr>\n",
       "  </tbody>\n",
       "</table>\n",
       "</div>"
      ],
      "text/plain": [
       "     PassengerId HomePlanet CryoSleep    Cabin    Destination   Age    VIP  \\\n",
       "4809     5133_02      Earth      True  G/829/P  PSO J318.5-22  24.0  False   \n",
       "6131     6468_04       Mars     False  D/204/P    TRAPPIST-1e  32.0   True   \n",
       "3296     3542_01       Mars      True  F/669/S    TRAPPIST-1e  31.0  False   \n",
       "7157     7635_01     Europa      True  B/289/S    55 Cancri e  58.0  False   \n",
       "6523     6891_01       Mars     False  D/215/P    TRAPPIST-1e  27.0  False   \n",
       "\n",
       "      RoomService  FoodCourt  ShoppingMall  Spa  VRDeck             Name  \\\n",
       "4809          0.0        0.0           0.0  0.0     0.0    Hene Litthews   \n",
       "6131       1179.0        0.0           4.0  0.0     0.0     Unchal Crité   \n",
       "3296          0.0        0.0           0.0  0.0     0.0      Beres Derry   \n",
       "7157          0.0        0.0           0.0  0.0     0.0  Caphird Aneetle   \n",
       "6523        725.0        0.0        1660.0  0.0     0.0     Treynx Casty   \n",
       "\n",
       "      Transported CabinGroup CabinZone  FamilySize  \n",
       "4809        False          G         P           8  \n",
       "6131        False          D         P           4  \n",
       "3296         True          F         S           1  \n",
       "7157         True          B         S           1  \n",
       "6523         True          D         P           1  "
      ]
     },
     "execution_count": 8,
     "metadata": {},
     "output_type": "execute_result"
    }
   ],
   "source": [
    "df_feat = feat_eng(df_train, drop_used_columns=False, PassengerIdGroup=False)\n",
    "df_feat.sample(n=5)"
   ]
  },
  {
   "cell_type": "markdown",
   "id": "2fb52132",
   "metadata": {
    "papermill": {
     "duration": 0.006373,
     "end_time": "2022-06-12T19:16:07.928014",
     "exception": false,
     "start_time": "2022-06-12T19:16:07.921641",
     "status": "completed"
    },
    "tags": []
   },
   "source": [
    "# Heavy Data Exploration\n",
    "\n",
    "Using the Features created to see corrilations.\n",
    "\n",
    "The findings might generate more features"
   ]
  },
  {
   "cell_type": "code",
   "execution_count": 9,
   "id": "2c227bf7",
   "metadata": {
    "execution": {
     "iopub.execute_input": "2022-06-12T19:16:07.943284Z",
     "iopub.status.busy": "2022-06-12T19:16:07.942847Z",
     "iopub.status.idle": "2022-06-12T19:16:08.298094Z",
     "shell.execute_reply": "2022-06-12T19:16:08.297004Z"
    },
    "papermill": {
     "duration": 0.365326,
     "end_time": "2022-06-12T19:16:08.300040",
     "exception": false,
     "start_time": "2022-06-12T19:16:07.934714",
     "status": "completed"
    },
    "tags": []
   },
   "outputs": [
    {
     "data": {
      "image/png": "[encoded data removed]",
      "text/plain": [
       "<Figure size 720x720 with 1 Axes>"
      ]
     },
     "metadata": {},
     "output_type": "display_data"
    }
   ],
   "source": [
    "sns.catplot(x=\"CabinGroup\", y=\"RoomService\", hue=None, height=base_height, kind='strip', data=df_feat)\n",
    "# control x and y limits\n",
    "plt.ylim(0, 4000)\n",
    "# plt.xlim(0, None)\n",
    "plt.show()"
   ]
  },
  {
   "cell_type": "code",
   "execution_count": 10,
   "id": "8dc9ee89",
   "metadata": {
    "execution": {
     "iopub.execute_input": "2022-06-12T19:16:08.317982Z",
     "iopub.status.busy": "2022-06-12T19:16:08.317582Z",
     "iopub.status.idle": "2022-06-12T19:16:08.382567Z",
     "shell.execute_reply": "2022-06-12T19:16:08.381006Z"
    },
    "papermill": {
     "duration": 0.076486,
     "end_time": "2022-06-12T19:16:08.384636",
     "exception": false,
     "start_time": "2022-06-12T19:16:08.308150",
     "status": "completed"
    },
    "tags": []
   },
   "outputs": [
    {
     "name": "stdout",
     "output_type": "stream",
     "text": [
      "Transported  False  True  TransportRate\n",
      "CabinGroup                             \n",
      "A              129   127           0.50\n",
      "B              207   572           0.73\n",
      "C              239   508           0.68\n",
      "D              271   207           0.43\n",
      "E              563   313           0.36\n",
      "F             1565  1229           0.44\n",
      "G             1238  1321           0.52\n",
      "T                4     1           0.20\n"
     ]
    }
   ],
   "source": [
    "CrosstabResult=pd.crosstab(index=(feat_eng(df_train)['CabinGroup']),columns=feat_eng(df_train)['Transported'])\n",
    "CrosstabResult['TransportRate'] = (CrosstabResult.iloc[:,1]/(CrosstabResult.iloc[:,0] + CrosstabResult.iloc[:,1])).round(decimals=2)\n",
    "print(CrosstabResult)"
   ]
  },
  {
   "cell_type": "code",
   "execution_count": 11,
   "id": "2eae8c12",
   "metadata": {
    "execution": {
     "iopub.execute_input": "2022-06-12T19:16:08.402708Z",
     "iopub.status.busy": "2022-06-12T19:16:08.402069Z",
     "iopub.status.idle": "2022-06-12T19:16:08.974724Z",
     "shell.execute_reply": "2022-06-12T19:16:08.973693Z"
    },
    "papermill": {
     "duration": 0.584083,
     "end_time": "2022-06-12T19:16:08.976869",
     "exception": false,
     "start_time": "2022-06-12T19:16:08.392786",
     "status": "completed"
    },
    "tags": []
   },
   "outputs": [
    {
     "data": {
      "text/plain": [
       "<seaborn.axisgrid.FacetGrid at 0x7fa5339b3a90>"
      ]
     },
     "execution_count": 11,
     "metadata": {},
     "output_type": "execute_result"
    },
    {
     "data": {
      "image/png": "[encoded data removed]",
      "text/plain": [
       "<Figure size 720x720 with 1 Axes>"
      ]
     },
     "metadata": {},
     "output_type": "display_data"
    }
   ],
   "source": [
    "sns.catplot(x=\"CabinGroup\", y=\"Transported\", height=base_height, kind='bar', data=df_feat)"
   ]
  },
  {
   "cell_type": "markdown",
   "id": "7979720b",
   "metadata": {
    "papermill": {
     "duration": 0.00867,
     "end_time": "2022-06-12T19:16:08.994650",
     "exception": false,
     "start_time": "2022-06-12T19:16:08.985980",
     "status": "completed"
    },
    "tags": []
   },
   "source": [
    "# Filling in Missing Values"
   ]
  },
  {
   "cell_type": "code",
   "execution_count": 12,
   "id": "d3abf9d6",
   "metadata": {
    "execution": {
     "iopub.execute_input": "2022-06-12T19:16:09.013768Z",
     "iopub.status.busy": "2022-06-12T19:16:09.013398Z",
     "iopub.status.idle": "2022-06-12T19:16:09.042621Z",
     "shell.execute_reply": "2022-06-12T19:16:09.041487Z"
    },
    "papermill": {
     "duration": 0.041203,
     "end_time": "2022-06-12T19:16:09.044741",
     "exception": false,
     "start_time": "2022-06-12T19:16:09.003538",
     "status": "completed"
    },
    "tags": []
   },
   "outputs": [
    {
     "data": {
      "text/html": [
       "<div>\n",
       "<style scoped>\n",
       "    .dataframe tbody tr th:only-of-type {\n",
       "        vertical-align: middle;\n",
       "    }\n",
       "\n",
       "    .dataframe tbody tr th {\n",
       "        vertical-align: top;\n",
       "    }\n",
       "\n",
       "    .dataframe thead th {\n",
       "        text-align: right;\n",
       "    }\n",
       "</style>\n",
       "<table border=\"1\" class=\"dataframe\">\n",
       "  <thead>\n",
       "    <tr style=\"text-align: right;\">\n",
       "      <th></th>\n",
       "      <th>PassengerId</th>\n",
       "      <th>HomePlanet</th>\n",
       "      <th>CryoSleep</th>\n",
       "      <th>Cabin</th>\n",
       "      <th>Destination</th>\n",
       "      <th>Age</th>\n",
       "      <th>VIP</th>\n",
       "      <th>RoomService</th>\n",
       "      <th>FoodCourt</th>\n",
       "      <th>ShoppingMall</th>\n",
       "      <th>Spa</th>\n",
       "      <th>VRDeck</th>\n",
       "      <th>Name</th>\n",
       "      <th>Transported</th>\n",
       "      <th>CabinGroup</th>\n",
       "      <th>CabinZone</th>\n",
       "      <th>FamilySize</th>\n",
       "    </tr>\n",
       "  </thead>\n",
       "  <tbody>\n",
       "    <tr>\n",
       "      <th>0</th>\n",
       "      <td>0001_01</td>\n",
       "      <td>Europa</td>\n",
       "      <td>False</td>\n",
       "      <td>B/0/P</td>\n",
       "      <td>TRAPPIST-1e</td>\n",
       "      <td>39.0</td>\n",
       "      <td>False</td>\n",
       "      <td>0.0</td>\n",
       "      <td>0.0</td>\n",
       "      <td>0.0</td>\n",
       "      <td>0.0</td>\n",
       "      <td>0.0</td>\n",
       "      <td>Maham Ofracculy</td>\n",
       "      <td>False</td>\n",
       "      <td>B</td>\n",
       "      <td>P</td>\n",
       "      <td>1</td>\n",
       "    </tr>\n",
       "    <tr>\n",
       "      <th>1</th>\n",
       "      <td>0002_01</td>\n",
       "      <td>Earth</td>\n",
       "      <td>False</td>\n",
       "      <td>F/0/S</td>\n",
       "      <td>TRAPPIST-1e</td>\n",
       "      <td>24.0</td>\n",
       "      <td>False</td>\n",
       "      <td>109.0</td>\n",
       "      <td>9.0</td>\n",
       "      <td>25.0</td>\n",
       "      <td>549.0</td>\n",
       "      <td>44.0</td>\n",
       "      <td>Juanna Vines</td>\n",
       "      <td>True</td>\n",
       "      <td>F</td>\n",
       "      <td>S</td>\n",
       "      <td>1</td>\n",
       "    </tr>\n",
       "    <tr>\n",
       "      <th>2</th>\n",
       "      <td>0003_01</td>\n",
       "      <td>Europa</td>\n",
       "      <td>False</td>\n",
       "      <td>A/0/S</td>\n",
       "      <td>TRAPPIST-1e</td>\n",
       "      <td>58.0</td>\n",
       "      <td>True</td>\n",
       "      <td>43.0</td>\n",
       "      <td>3576.0</td>\n",
       "      <td>0.0</td>\n",
       "      <td>6715.0</td>\n",
       "      <td>49.0</td>\n",
       "      <td>Altark Susent</td>\n",
       "      <td>False</td>\n",
       "      <td>A</td>\n",
       "      <td>S</td>\n",
       "      <td>2</td>\n",
       "    </tr>\n",
       "    <tr>\n",
       "      <th>3</th>\n",
       "      <td>0003_02</td>\n",
       "      <td>Europa</td>\n",
       "      <td>False</td>\n",
       "      <td>A/0/S</td>\n",
       "      <td>TRAPPIST-1e</td>\n",
       "      <td>33.0</td>\n",
       "      <td>False</td>\n",
       "      <td>0.0</td>\n",
       "      <td>1283.0</td>\n",
       "      <td>371.0</td>\n",
       "      <td>3329.0</td>\n",
       "      <td>193.0</td>\n",
       "      <td>Solam Susent</td>\n",
       "      <td>False</td>\n",
       "      <td>A</td>\n",
       "      <td>S</td>\n",
       "      <td>2</td>\n",
       "    </tr>\n",
       "    <tr>\n",
       "      <th>4</th>\n",
       "      <td>0004_01</td>\n",
       "      <td>Earth</td>\n",
       "      <td>False</td>\n",
       "      <td>F/1/S</td>\n",
       "      <td>TRAPPIST-1e</td>\n",
       "      <td>16.0</td>\n",
       "      <td>False</td>\n",
       "      <td>303.0</td>\n",
       "      <td>70.0</td>\n",
       "      <td>151.0</td>\n",
       "      <td>565.0</td>\n",
       "      <td>2.0</td>\n",
       "      <td>Willy Santantines</td>\n",
       "      <td>True</td>\n",
       "      <td>F</td>\n",
       "      <td>S</td>\n",
       "      <td>1</td>\n",
       "    </tr>\n",
       "    <tr>\n",
       "      <th>...</th>\n",
       "      <td>...</td>\n",
       "      <td>...</td>\n",
       "      <td>...</td>\n",
       "      <td>...</td>\n",
       "      <td>...</td>\n",
       "      <td>...</td>\n",
       "      <td>...</td>\n",
       "      <td>...</td>\n",
       "      <td>...</td>\n",
       "      <td>...</td>\n",
       "      <td>...</td>\n",
       "      <td>...</td>\n",
       "      <td>...</td>\n",
       "      <td>...</td>\n",
       "      <td>...</td>\n",
       "      <td>...</td>\n",
       "      <td>...</td>\n",
       "    </tr>\n",
       "    <tr>\n",
       "      <th>8688</th>\n",
       "      <td>9276_01</td>\n",
       "      <td>Europa</td>\n",
       "      <td>False</td>\n",
       "      <td>A/98/P</td>\n",
       "      <td>55 Cancri e</td>\n",
       "      <td>41.0</td>\n",
       "      <td>True</td>\n",
       "      <td>0.0</td>\n",
       "      <td>6819.0</td>\n",
       "      <td>0.0</td>\n",
       "      <td>1643.0</td>\n",
       "      <td>74.0</td>\n",
       "      <td>Gravior Noxnuther</td>\n",
       "      <td>False</td>\n",
       "      <td>A</td>\n",
       "      <td>P</td>\n",
       "      <td>1</td>\n",
       "    </tr>\n",
       "    <tr>\n",
       "      <th>8689</th>\n",
       "      <td>9278_01</td>\n",
       "      <td>Earth</td>\n",
       "      <td>True</td>\n",
       "      <td>G/1499/S</td>\n",
       "      <td>PSO J318.5-22</td>\n",
       "      <td>18.0</td>\n",
       "      <td>False</td>\n",
       "      <td>0.0</td>\n",
       "      <td>0.0</td>\n",
       "      <td>0.0</td>\n",
       "      <td>0.0</td>\n",
       "      <td>0.0</td>\n",
       "      <td>Kurta Mondalley</td>\n",
       "      <td>False</td>\n",
       "      <td>G</td>\n",
       "      <td>S</td>\n",
       "      <td>1</td>\n",
       "    </tr>\n",
       "    <tr>\n",
       "      <th>8690</th>\n",
       "      <td>9279_01</td>\n",
       "      <td>Earth</td>\n",
       "      <td>False</td>\n",
       "      <td>G/1500/S</td>\n",
       "      <td>TRAPPIST-1e</td>\n",
       "      <td>26.0</td>\n",
       "      <td>False</td>\n",
       "      <td>0.0</td>\n",
       "      <td>0.0</td>\n",
       "      <td>1872.0</td>\n",
       "      <td>1.0</td>\n",
       "      <td>0.0</td>\n",
       "      <td>Fayey Connon</td>\n",
       "      <td>True</td>\n",
       "      <td>G</td>\n",
       "      <td>S</td>\n",
       "      <td>1</td>\n",
       "    </tr>\n",
       "    <tr>\n",
       "      <th>8691</th>\n",
       "      <td>9280_01</td>\n",
       "      <td>Europa</td>\n",
       "      <td>False</td>\n",
       "      <td>E/608/S</td>\n",
       "      <td>55 Cancri e</td>\n",
       "      <td>32.0</td>\n",
       "      <td>False</td>\n",
       "      <td>0.0</td>\n",
       "      <td>1049.0</td>\n",
       "      <td>0.0</td>\n",
       "      <td>353.0</td>\n",
       "      <td>3235.0</td>\n",
       "      <td>Celeon Hontichre</td>\n",
       "      <td>False</td>\n",
       "      <td>E</td>\n",
       "      <td>S</td>\n",
       "      <td>2</td>\n",
       "    </tr>\n",
       "    <tr>\n",
       "      <th>8692</th>\n",
       "      <td>9280_02</td>\n",
       "      <td>Europa</td>\n",
       "      <td>False</td>\n",
       "      <td>E/608/S</td>\n",
       "      <td>TRAPPIST-1e</td>\n",
       "      <td>44.0</td>\n",
       "      <td>False</td>\n",
       "      <td>126.0</td>\n",
       "      <td>4688.0</td>\n",
       "      <td>0.0</td>\n",
       "      <td>0.0</td>\n",
       "      <td>12.0</td>\n",
       "      <td>Propsh Hontichre</td>\n",
       "      <td>True</td>\n",
       "      <td>E</td>\n",
       "      <td>S</td>\n",
       "      <td>2</td>\n",
       "    </tr>\n",
       "  </tbody>\n",
       "</table>\n",
       "<p>8693 rows × 17 columns</p>\n",
       "</div>"
      ],
      "text/plain": [
       "     PassengerId HomePlanet CryoSleep     Cabin    Destination   Age    VIP  \\\n",
       "0        0001_01     Europa     False     B/0/P    TRAPPIST-1e  39.0  False   \n",
       "1        0002_01      Earth     False     F/0/S    TRAPPIST-1e  24.0  False   \n",
       "2        0003_01     Europa     False     A/0/S    TRAPPIST-1e  58.0   True   \n",
       "3        0003_02     Europa     False     A/0/S    TRAPPIST-1e  33.0  False   \n",
       "4        0004_01      Earth     False     F/1/S    TRAPPIST-1e  16.0  False   \n",
       "...          ...        ...       ...       ...            ...   ...    ...   \n",
       "8688     9276_01     Europa     False    A/98/P    55 Cancri e  41.0   True   \n",
       "8689     9278_01      Earth      True  G/1499/S  PSO J318.5-22  18.0  False   \n",
       "8690     9279_01      Earth     False  G/1500/S    TRAPPIST-1e  26.0  False   \n",
       "8691     9280_01     Europa     False   E/608/S    55 Cancri e  32.0  False   \n",
       "8692     9280_02     Europa     False   E/608/S    TRAPPIST-1e  44.0  False   \n",
       "\n",
       "      RoomService  FoodCourt  ShoppingMall     Spa  VRDeck               Name  \\\n",
       "0             0.0        0.0           0.0     0.0     0.0    Maham Ofracculy   \n",
       "1           109.0        9.0          25.0   549.0    44.0       Juanna Vines   \n",
       "2            43.0     3576.0           0.0  6715.0    49.0      Altark Susent   \n",
       "3             0.0     1283.0         371.0  3329.0   193.0       Solam Susent   \n",
       "4           303.0       70.0         151.0   565.0     2.0  Willy Santantines   \n",
       "...           ...        ...           ...     ...     ...                ...   \n",
       "8688          0.0     6819.0           0.0  1643.0    74.0  Gravior Noxnuther   \n",
       "8689          0.0        0.0           0.0     0.0     0.0    Kurta Mondalley   \n",
       "8690          0.0        0.0        1872.0     1.0     0.0       Fayey Connon   \n",
       "8691          0.0     1049.0           0.0   353.0  3235.0   Celeon Hontichre   \n",
       "8692        126.0     4688.0           0.0     0.0    12.0   Propsh Hontichre   \n",
       "\n",
       "      Transported CabinGroup CabinZone  FamilySize  \n",
       "0           False          B         P           1  \n",
       "1            True          F         S           1  \n",
       "2           False          A         S           2  \n",
       "3           False          A         S           2  \n",
       "4            True          F         S           1  \n",
       "...           ...        ...       ...         ...  \n",
       "8688        False          A         P           1  \n",
       "8689        False          G         S           1  \n",
       "8690         True          G         S           1  \n",
       "8691        False          E         S           2  \n",
       "8692         True          E         S           2  \n",
       "\n",
       "[8693 rows x 17 columns]"
      ]
     },
     "execution_count": 12,
     "metadata": {},
     "output_type": "execute_result"
    }
   ],
   "source": [
    "df_feat"
   ]
  },
  {
   "cell_type": "code",
   "execution_count": 13,
   "id": "ab01a429",
   "metadata": {
    "execution": {
     "iopub.execute_input": "2022-06-12T19:16:09.065521Z",
     "iopub.status.busy": "2022-06-12T19:16:09.064637Z",
     "iopub.status.idle": "2022-06-12T19:16:09.072505Z",
     "shell.execute_reply": "2022-06-12T19:16:09.071829Z"
    },
    "papermill": {
     "duration": 0.020236,
     "end_time": "2022-06-12T19:16:09.074198",
     "exception": false,
     "start_time": "2022-06-12T19:16:09.053962",
     "status": "completed"
    },
    "tags": []
   },
   "outputs": [],
   "source": [
    "# TODO: refactor the code after this line to be more applicable\n",
    "\n",
    "# categorical_cols = ['HomePlanet', 'CryoSleep', 'CabinGroup', 'CabinZone', 'Destination', 'VIP', 'FamilySize'] # 'Name'\n",
    "\n",
    "# # Select numerical columns\n",
    "# numerical_cols = ['Age', 'RoomService', 'FoodCourt', 'ShoppingMall', 'Spa', 'VRDeck']\n",
    "\n",
    "categorical_cols = ['HomePlanet', 'CryoSleep', 'Cabin', 'Destination', 'VIP'] # 'Name'\n",
    "\n",
    "# Select numerical columns\n",
    "numerical_cols = ['Age', 'RoomService', 'FoodCourt', 'ShoppingMall', 'Spa', 'VRDeck']\n",
    "\n",
    "my_cols = ['PassengerId'] + categorical_cols + numerical_cols\n",
    "y = df_feat.Transported\n",
    "X = df_feat[my_cols].drop(['Transported'], axis=1, errors='ignore')"
   ]
  },
  {
   "cell_type": "code",
   "execution_count": 14,
   "id": "c52a33a6",
   "metadata": {
    "execution": {
     "iopub.execute_input": "2022-06-12T19:16:09.094772Z",
     "iopub.status.busy": "2022-06-12T19:16:09.093920Z",
     "iopub.status.idle": "2022-06-12T19:16:09.439876Z",
     "shell.execute_reply": "2022-06-12T19:16:09.438944Z"
    },
    "papermill": {
     "duration": 0.358522,
     "end_time": "2022-06-12T19:16:09.442236",
     "exception": false,
     "start_time": "2022-06-12T19:16:09.083714",
     "status": "completed"
    },
    "tags": []
   },
   "outputs": [],
   "source": [
    "from sklearn.compose import ColumnTransformer\n",
    "from sklearn.pipeline import Pipeline\n",
    "from sklearn.impute import SimpleImputer\n",
    "from sklearn.preprocessing import OneHotEncoder\n",
    "\n",
    "# Preprocessing for numerical data\n",
    "numerical_transformer = SimpleImputer(strategy='constant')\n",
    "\n",
    "# Preprocessing for categorical data\n",
    "categorical_transformer = Pipeline(steps=[\n",
    "    ('imputer', SimpleImputer(strategy='most_frequent')),\n",
    "    ('onehot', OneHotEncoder(handle_unknown='ignore'))\n",
    "])\n",
    "\n",
    "# Bundle preprocessing for numerical and categorical data\n",
    "preprocessor = ColumnTransformer(\n",
    "    transformers=[\n",
    "        ('num', numerical_transformer, numerical_cols),\n",
    "        ('cat', categorical_transformer, categorical_cols)\n",
    "    ])"
   ]
  },
  {
   "cell_type": "markdown",
   "id": "141e83d0",
   "metadata": {
    "papermill": {
     "duration": 0.008931,
     "end_time": "2022-06-12T19:16:09.462513",
     "exception": false,
     "start_time": "2022-06-12T19:16:09.453582",
     "status": "completed"
    },
    "tags": []
   },
   "source": [
    "# Evaluating Models"
   ]
  },
  {
   "cell_type": "code",
   "execution_count": 15,
   "id": "a3e85211",
   "metadata": {
    "execution": {
     "iopub.execute_input": "2022-06-12T19:16:09.481842Z",
     "iopub.status.busy": "2022-06-12T19:16:09.481460Z",
     "iopub.status.idle": "2022-06-12T19:16:09.573611Z",
     "shell.execute_reply": "2022-06-12T19:16:09.572603Z"
    },
    "papermill": {
     "duration": 0.10457,
     "end_time": "2022-06-12T19:16:09.576046",
     "exception": false,
     "start_time": "2022-06-12T19:16:09.471476",
     "status": "completed"
    },
    "tags": []
   },
   "outputs": [],
   "source": [
    "# evaluate the model\n",
    "from sklearn.ensemble import RandomForestClassifier\n",
    "from sklearn.pipeline import Pipeline\n",
    "from sklearn.impute import SimpleImputer\n",
    "\n",
    "def get_score(preprocessor, model):\n",
    "    # Bundle preprocessing and modeling code in a pipeline\n",
    "    my_pipeline = Pipeline(steps=[('preprocessor', preprocessor),\n",
    "                                  ('model', model)\n",
    "                                 ])\n",
    "    \n",
    "    from sklearn.model_selection import cross_val_score\n",
    "    scores = cross_val_score(my_pipeline, X, y,\n",
    "                                  cv=5,\n",
    "                                  scoring='accuracy')\n",
    "    return scores"
   ]
  },
  {
   "cell_type": "code",
   "execution_count": 16,
   "id": "161c69ba",
   "metadata": {
    "execution": {
     "iopub.execute_input": "2022-06-12T19:16:09.596604Z",
     "iopub.status.busy": "2022-06-12T19:16:09.595710Z",
     "iopub.status.idle": "2022-06-12T19:16:30.005017Z",
     "shell.execute_reply": "2022-06-12T19:16:30.003788Z"
    },
    "papermill": {
     "duration": 20.421771,
     "end_time": "2022-06-12T19:16:30.007246",
     "exception": false,
     "start_time": "2022-06-12T19:16:09.585475",
     "status": "completed"
    },
    "tags": []
   },
   "outputs": [
    {
     "name": "stdout",
     "output_type": "stream",
     "text": [
      "RandomForestClassifier(n_estimators=95, random_state=0)\n",
      "Avg accuracy: 79.03%\n",
      "Std of accuracy: 1.04%\n",
      "\n",
      "\n"
     ]
    }
   ],
   "source": [
    "# model picking and parameter tuning \n",
    "# TODO: update this process\n",
    "\n",
    "from xgboost import XGBClassifier\n",
    "from sklearn.ensemble import RandomForestClassifier\n",
    "from sklearn.neighbors import KNeighborsClassifier\n",
    "from sklearn.svm import SVC\n",
    "from sklearn.naive_bayes import MultinomialNB\n",
    "\n",
    "models = []\n",
    "# models.append(RandomForestClassifier(n_estimators=125, random_state=0))\n",
    "# models.append(RandomForestClassifier(n_estimators=150, random_state=0))\n",
    "# models.append(RandomForestClassifier(n_estimators=175, random_state=0))\n",
    "models.append(RandomForestClassifier(n_estimators=95, random_state=0))\n",
    "# models.append(RandomForestClassifier(n_estimators=200, random_state=0))\n",
    "# models.append(RandomForestClassifier(n_estimators=225, random_state=0))\n",
    "# models.append(RandomForestClassifier(n_estimators=1000, random_state=0))\n",
    "\n",
    "\n",
    "# models.append(XGBClassifier(random_state=0))\n",
    "# models.append(XGBClassifier(n_estimators=100, learning_rate=0.001, random_state=0))\n",
    "# models.append(KNeighborsClassifier(n_neighbors=45))\n",
    "# models.append(MultinomialNB())\n",
    "# models.append(SVC(kernel='linear'))\n",
    "\n",
    "\n",
    "for model in models:\n",
    "    score = get_score(preprocessor, model)\n",
    "    print(f\"{model}\\nAvg accuracy: {round(score.mean()*100, 2)}%\\nStd of accuracy: {round(score.std()*100, 2)}%\\n\\n\")"
   ]
  },
  {
   "cell_type": "code",
   "execution_count": 17,
   "id": "85078141",
   "metadata": {
    "execution": {
     "iopub.execute_input": "2022-06-12T19:16:30.027403Z",
     "iopub.status.busy": "2022-06-12T19:16:30.026920Z",
     "iopub.status.idle": "2022-06-12T19:16:30.041144Z",
     "shell.execute_reply": "2022-06-12T19:16:30.040130Z"
    },
    "papermill": {
     "duration": 0.02687,
     "end_time": "2022-06-12T19:16:30.043288",
     "exception": false,
     "start_time": "2022-06-12T19:16:30.016418",
     "status": "completed"
    },
    "tags": []
   },
   "outputs": [],
   "source": [
    "from sklearn.model_selection import train_test_split\n",
    "\n",
    "# Divide data into training and validation subsets\n",
    "X_train_full, X_valid_full, y_train, y_valid = train_test_split(X, y, train_size=0.8, test_size=0.2,\n",
    "                                                                random_state=0)\n",
    "\n",
    "# Keep selected columns only\n",
    "my_cols = ['PassengerId'] + categorical_cols + numerical_cols\n",
    "X_train = X_train_full[my_cols].copy()\n",
    "X_valid = X_valid_full[my_cols].copy()"
   ]
  },
  {
   "cell_type": "code",
   "execution_count": 18,
   "id": "865a054c",
   "metadata": {
    "execution": {
     "iopub.execute_input": "2022-06-12T19:16:30.065991Z",
     "iopub.status.busy": "2022-06-12T19:16:30.064980Z",
     "iopub.status.idle": "2022-06-12T19:16:34.204376Z",
     "shell.execute_reply": "2022-06-12T19:16:34.203347Z"
    },
    "papermill": {
     "duration": 4.153593,
     "end_time": "2022-06-12T19:16:34.206731",
     "exception": false,
     "start_time": "2022-06-12T19:16:30.053138",
     "status": "completed"
    },
    "tags": []
   },
   "outputs": [],
   "source": [
    "from sklearn.metrics import accuracy_score\n",
    "\n",
    "# Bundle preprocessing and modeling code in a pipeline\n",
    "my_pipeline = Pipeline(steps=[('preprocessor', preprocessor),\n",
    "                              ('model', model)\n",
    "                             ])\n",
    "\n",
    "# Preprocessing of training data, fit model \n",
    "my_pipeline.fit(X_train, y_train)\n",
    "\n",
    "# Preprocessing of validation data, get predictions\n",
    "preds = my_pipeline.predict(X_valid)"
   ]
  },
  {
   "cell_type": "markdown",
   "id": "621c2fb8",
   "metadata": {
    "papermill": {
     "duration": 0.008802,
     "end_time": "2022-06-12T19:16:34.224731",
     "exception": false,
     "start_time": "2022-06-12T19:16:34.215929",
     "status": "completed"
    },
    "tags": []
   },
   "source": [
    "# Submitting the Results"
   ]
  },
  {
   "cell_type": "code",
   "execution_count": 19,
   "id": "3377368a",
   "metadata": {
    "execution": {
     "iopub.execute_input": "2022-06-12T19:16:34.244237Z",
     "iopub.status.busy": "2022-06-12T19:16:34.243811Z",
     "iopub.status.idle": "2022-06-12T19:16:34.567975Z",
     "shell.execute_reply": "2022-06-12T19:16:34.566901Z"
    },
    "papermill": {
     "duration": 0.336627,
     "end_time": "2022-06-12T19:16:34.570368",
     "exception": false,
     "start_time": "2022-06-12T19:16:34.233741",
     "status": "completed"
    },
    "tags": []
   },
   "outputs": [],
   "source": [
    "# Preprocessing of validation data, get predictions\n",
    "preds = my_pipeline.predict(feat_eng(df_test, drop_used_columns=False, PassengerIdGroup=False))"
   ]
  },
  {
   "cell_type": "code",
   "execution_count": 20,
   "id": "a305dfc8",
   "metadata": {
    "execution": {
     "iopub.execute_input": "2022-06-12T19:16:34.590725Z",
     "iopub.status.busy": "2022-06-12T19:16:34.589727Z",
     "iopub.status.idle": "2022-06-12T19:16:34.604011Z",
     "shell.execute_reply": "2022-06-12T19:16:34.603196Z"
    },
    "papermill": {
     "duration": 0.026798,
     "end_time": "2022-06-12T19:16:34.606294",
     "exception": false,
     "start_time": "2022-06-12T19:16:34.579496",
     "status": "completed"
    },
    "tags": []
   },
   "outputs": [],
   "source": [
    "output = pd.DataFrame({'PassengerId': df_test['PassengerId'],\n",
    "                       'Transported': [bool(i) for i in preds]})\n",
    "output.to_csv('submission.csv', index=False)"
   ]
  },
  {
   "cell_type": "code",
   "execution_count": 21,
   "id": "4981d05a",
   "metadata": {
    "execution": {
     "iopub.execute_input": "2022-06-12T19:16:34.626123Z",
     "iopub.status.busy": "2022-06-12T19:16:34.625763Z",
     "iopub.status.idle": "2022-06-12T19:16:34.635123Z",
     "shell.execute_reply": "2022-06-12T19:16:34.634131Z"
    },
    "papermill": {
     "duration": 0.021401,
     "end_time": "2022-06-12T19:16:34.636949",
     "exception": false,
     "start_time": "2022-06-12T19:16:34.615548",
     "status": "completed"
    },
    "tags": []
   },
   "outputs": [
    {
     "data": {
      "text/html": [
       "<div>\n",
       "<style scoped>\n",
       "    .dataframe tbody tr th:only-of-type {\n",
       "        vertical-align: middle;\n",
       "    }\n",
       "\n",
       "    .dataframe tbody tr th {\n",
       "        vertical-align: top;\n",
       "    }\n",
       "\n",
       "    .dataframe thead th {\n",
       "        text-align: right;\n",
       "    }\n",
       "</style>\n",
       "<table border=\"1\" class=\"dataframe\">\n",
       "  <thead>\n",
       "    <tr style=\"text-align: right;\">\n",
       "      <th></th>\n",
       "      <th>PassengerId</th>\n",
       "      <th>Transported</th>\n",
       "    </tr>\n",
       "  </thead>\n",
       "  <tbody>\n",
       "    <tr>\n",
       "      <th>0</th>\n",
       "      <td>0013_01</td>\n",
       "      <td>True</td>\n",
       "    </tr>\n",
       "    <tr>\n",
       "      <th>1</th>\n",
       "      <td>0018_01</td>\n",
       "      <td>False</td>\n",
       "    </tr>\n",
       "    <tr>\n",
       "      <th>2</th>\n",
       "      <td>0019_01</td>\n",
       "      <td>True</td>\n",
       "    </tr>\n",
       "    <tr>\n",
       "      <th>3</th>\n",
       "      <td>0021_01</td>\n",
       "      <td>True</td>\n",
       "    </tr>\n",
       "    <tr>\n",
       "      <th>4</th>\n",
       "      <td>0023_01</td>\n",
       "      <td>False</td>\n",
       "    </tr>\n",
       "  </tbody>\n",
       "</table>\n",
       "</div>"
      ],
      "text/plain": [
       "  PassengerId  Transported\n",
       "0     0013_01         True\n",
       "1     0018_01        False\n",
       "2     0019_01         True\n",
       "3     0021_01         True\n",
       "4     0023_01        False"
      ]
     },
     "execution_count": 21,
     "metadata": {},
     "output_type": "execute_result"
    }
   ],
   "source": [
    "output.head()"
   ]
  },
  {
   "cell_type": "code",
   "execution_count": 22,
   "id": "8bb7fff0",
   "metadata": {
    "execution": {
     "iopub.execute_input": "2022-06-12T19:16:34.657604Z",
     "iopub.status.busy": "2022-06-12T19:16:34.656668Z",
     "iopub.status.idle": "2022-06-12T19:16:34.665298Z",
     "shell.execute_reply": "2022-06-12T19:16:34.664613Z"
    },
    "papermill": {
     "duration": 0.020656,
     "end_time": "2022-06-12T19:16:34.667020",
     "exception": false,
     "start_time": "2022-06-12T19:16:34.646364",
     "status": "completed"
    },
    "tags": []
   },
   "outputs": [
    {
     "data": {
      "text/html": [
       "<div>\n",
       "<style scoped>\n",
       "    .dataframe tbody tr th:only-of-type {\n",
       "        vertical-align: middle;\n",
       "    }\n",
       "\n",
       "    .dataframe tbody tr th {\n",
       "        vertical-align: top;\n",
       "    }\n",
       "\n",
       "    .dataframe thead th {\n",
       "        text-align: right;\n",
       "    }\n",
       "</style>\n",
       "<table border=\"1\" class=\"dataframe\">\n",
       "  <thead>\n",
       "    <tr style=\"text-align: right;\">\n",
       "      <th></th>\n",
       "      <th>PassengerId</th>\n",
       "      <th>Transported</th>\n",
       "    </tr>\n",
       "  </thead>\n",
       "  <tbody>\n",
       "    <tr>\n",
       "      <th>0</th>\n",
       "      <td>0013_01</td>\n",
       "      <td>False</td>\n",
       "    </tr>\n",
       "    <tr>\n",
       "      <th>1</th>\n",
       "      <td>0018_01</td>\n",
       "      <td>False</td>\n",
       "    </tr>\n",
       "    <tr>\n",
       "      <th>2</th>\n",
       "      <td>0019_01</td>\n",
       "      <td>False</td>\n",
       "    </tr>\n",
       "    <tr>\n",
       "      <th>3</th>\n",
       "      <td>0021_01</td>\n",
       "      <td>False</td>\n",
       "    </tr>\n",
       "    <tr>\n",
       "      <th>4</th>\n",
       "      <td>0023_01</td>\n",
       "      <td>False</td>\n",
       "    </tr>\n",
       "  </tbody>\n",
       "</table>\n",
       "</div>"
      ],
      "text/plain": [
       "  PassengerId  Transported\n",
       "0     0013_01        False\n",
       "1     0018_01        False\n",
       "2     0019_01        False\n",
       "3     0021_01        False\n",
       "4     0023_01        False"
      ]
     },
     "execution_count": 22,
     "metadata": {},
     "output_type": "execute_result"
    }
   ],
   "source": [
    "df_sample.head()"
   ]
  }
 ],
 "metadata": {
  "kernelspec": {
   "display_name": "Python 3",
   "language": "python",
   "name": "python3"
  },
  "language_info": {
   "codemirror_mode": {
    "name": "ipython",
    "version": 3
   },
   "file_extension": ".py",
   "mimetype": "text/x-python",
   "name": "python",
   "nbconvert_exporter": "python",
   "pygments_lexer": "ipython3",
   "version": "3.7.12"
  },
  "papermill": {
   "default_parameters": {},
   "duration": 38.004052,
   "end_time": "2022-06-12T19:16:35.497603",
   "environment_variables": {},
   "exception": null,
   "input_path": "__notebook__.ipynb",
   "output_path": "__notebook__.ipynb",
   "parameters": {},
   "start_time": "2022-06-12T19:15:57.493551",
   "version": "2.3.4"
  }
 },
 "nbformat": 4,
 "nbformat_minor": 5
}
